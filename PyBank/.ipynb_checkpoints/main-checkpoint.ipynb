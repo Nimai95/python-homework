{
 "cells": [
  {
   "cell_type": "code",
   "execution_count": null,
   "id": "5f1f80f1-db46-49ec-a98f-362363ae2a7a",
   "metadata": {
    "tags": []
   },
   "outputs": [],
   "source": [
    "#importing the csv file\n",
    "from pathlib import Path\n",
    "import csv\n",
    "\n",
    "#setting the file path\n",
    "csvpath = Path(\"Resources/budget_data.csv\")"
   ]
  },
  {
   "cell_type": "code",
   "execution_count": null,
   "id": "a18bed28-20e0-4a1e-9fa4-fe51d6ad890a",
   "metadata": {},
   "outputs": [],
   "source": [
    "#Initializing the variables\n",
    "months = 0\n",
    "greatest_increase_profit = 0\n",
    "greatest_decrease_loss = 0\n",
    "profit_loss_change_list = []\n",
    "months_of_change = []"
   ]
  },
  {
   "cell_type": "code",
   "execution_count": null,
   "id": "ed778c68-5284-4b54-a64d-830919f2c00b",
   "metadata": {
    "tags": []
   },
   "outputs": [],
   "source": [
    "#to open csv file\n",
    "with open(csvpath, 'r') as csvfile:\n",
    "    reader = csv.reader(csvfile, delimiter=\",\")\n",
    "    \n",
    "    #command for header\n",
    "    csv_header = next(reader)\n",
    "    print(f\"Header: {csv_header}\")\n",
    "    first_row = next(reader)\n",
    "    previous_profit = int(first_row[1])"
   ]
  },
  {
   "cell_type": "raw",
   "id": "d04bc20e-070a-4939-b314-ae129207502b",
   "metadata": {},
   "source": [
    "# calculate the months and profit_loss\n",
    "#month_row represents the csv file for all dates individually\n",
    "\n",
    "for row in reader:\n",
    "    print(row)"
   ]
  },
  {
   "cell_type": "code",
   "execution_count": null,
   "id": "1550c385-5b8e-43ec-9612-00680c31d3e2",
   "metadata": {},
   "outputs": [],
   "source": [
    "# calculating profit and losses\n",
    "Date = row[0]\n",
    "Profit_Losses = int(row[1])"
   ]
  },
  {
   "cell_type": "code",
   "execution_count": null,
   "id": "f7793de9-310c-4f0a-8b57-72fd48d3ac88",
   "metadata": {},
   "outputs": [],
   "source": [
    "#calculation for the variables\n",
    "changes_profit_loss = int(row[1]) - previous_profit_loss\n",
    "\n",
    "# months_of_change = month_of_change + [row[\"Date\"]]"
   ]
  },
  {
   "cell_type": "code",
   "execution_count": null,
   "id": "8bc72ed6-4d57-49a1-a11b-f222e448dc80",
   "metadata": {},
   "outputs": [],
   "source": [
    "#iterating to the changes\n",
    "if (changes_profit_loss > greatest_increase_profit[1]):\n",
    "    greatest_increase_profit[1] = changes_profit_loss\n",
    "    greatest_increase_profit[0] = [row[0]]\n",
    "    \n",
    "if (changes_profit_loss < greatest_decrease_loss[1]):\n",
    "    greatest_decrease_loss[0] = row[0]\n",
    "    greatest_decrease_loss[1] = changes_profit_loss"
   ]
  },
  {
   "cell_type": "code",
   "execution_count": null,
   "id": "e35449e7-6105-42d4-9a4b-364ddabcd629",
   "metadata": {},
   "outputs": [],
   "source": [
    "#calculating the average without the iteration\n",
    "average = sum(changes_profit_loss) / len(changes_profit_loss)"
   ]
  },
  {
   "cell_type": "code",
   "execution_count": null,
   "id": "2089550d-5a78-41b5-9cb1-230c0710be44",
   "metadata": {},
   "outputs": [],
   "source": [
    "#outcomes\n",
    "print(f\"total months: {months}\")\n",
    "print(f\"profit_loss: {profit/loss}\")\n",
    "print(f\"average change: {average}\")\n",
    "print(f\"greatest increase is: {greatest_increase_profit[0]} ${greatest_increase_profit[1]}\")\n",
    "print(f\"greatest decrease is: {greatest_decrease_loss[0]} ${greatest_decrease_loss[1]}\")"
   ]
  }
 ],
 "metadata": {
  "kernelspec": {
   "display_name": "Python 3 (ipykernel)",
   "language": "python",
   "name": "python3"
  },
  "language_info": {
   "codemirror_mode": {
    "name": "ipython",
    "version": 3
   },
   "file_extension": ".py",
   "mimetype": "text/x-python",
   "name": "python",
   "nbconvert_exporter": "python",
   "pygments_lexer": "ipython3",
   "version": "3.8.8"
  }
 },
 "nbformat": 4,
 "nbformat_minor": 5
}
